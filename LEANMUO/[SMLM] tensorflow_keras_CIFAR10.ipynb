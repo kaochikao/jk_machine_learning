{
 "cells": [
  {
   "cell_type": "markdown",
   "metadata": {},
   "source": [
    "- Summary: Keras Sequential NN model on SageMaker\n",
    "- Source:\n",
    "https://github.com/awslabs/amazon-sagemaker-examples/blob/master/sagemaker-python-sdk/keras_script_mode_pipe_mode_horovod/tensorflow_keras_CIFAR10.ipynb\n",
    "- data set: CIFAR-10, 10 classes, 6,000 images/class"
   ]
  },
  {
   "cell_type": "code",
   "execution_count": 31,
   "metadata": {},
   "outputs": [],
   "source": [
    "\n",
    "import os\n",
    "import sagemaker\n",
    "from sagemaker import get_execution_role\n",
    "\n",
    "sagemaker_session = sagemaker.Session()\n",
    "\n",
    "role = get_execution_role()"
   ]
  },
  {
   "cell_type": "code",
   "execution_count": 12,
   "metadata": {},
   "outputs": [],
   "source": [
    "# !python generate_cifar10_tfrecords.py --data-dir ./data"
   ]
  },
  {
   "cell_type": "code",
   "execution_count": 35,
   "metadata": {},
   "outputs": [],
   "source": [
    "from sagemaker.tensorflow import TensorFlow\n"
   ]
  },
  {
   "cell_type": "markdown",
   "metadata": {},
   "source": [
    "# Local"
   ]
  },
  {
   "cell_type": "code",
   "execution_count": 41,
   "metadata": {},
   "outputs": [],
   "source": [
    "import subprocess\n",
    "\n",
    "instance_type = 'local'\n",
    "\n",
    "if subprocess.call('nvidia-smi') == 0:\n",
    "    instance_type = 'local_gpu'\n",
    "    \n",
    "local_hyperparameters = {\n",
    "    'epochs': 2,\n",
    "    'batch-size': 64\n",
    "}\n",
    "\n",
    "source_dir = os.path.join(os.getcwd(), 'source_dir')\n",
    "\n",
    "estimator = TensorFlow(\n",
    "    entry_point='cifar10_keras_main.py',\n",
    "    source_dir=source_dir,\n",
    "    role=role,\n",
    "    framework_version='1.12.0',\n",
    "    train_instance_count=1,\n",
    "    train_instance_type='local',\n",
    "    py_version='py3',\n",
    "    hyperparameters=local_hyperparameters\n",
    ")\n"
   ]
  },
  {
   "cell_type": "code",
   "execution_count": 44,
   "metadata": {},
   "outputs": [
    {
     "name": "stdout",
     "output_type": "stream",
     "text": [
      "Creating tmprg0dav80_algo-1-jpgbf_1 ... \n",
      "\u001b[1BAttaching to tmprg0dav80_algo-1-jpgbf_12mdone\u001b[0m\n",
      "\u001b[36malgo-1-jpgbf_1  |\u001b[0m 2020-03-29 10:46:31,029 sagemaker-containers INFO     Imported framework sagemaker_tensorflow_container.training\n",
      "\u001b[36malgo-1-jpgbf_1  |\u001b[0m 2020-03-29 10:46:31,035 sagemaker-containers INFO     No GPUs detected (normal if no gpus installed)\n",
      "\u001b[36malgo-1-jpgbf_1  |\u001b[0m 2020-03-29 10:46:31,211 sagemaker-containers INFO     No GPUs detected (normal if no gpus installed)\n",
      "\u001b[36malgo-1-jpgbf_1  |\u001b[0m 2020-03-29 10:46:31,229 sagemaker-containers INFO     No GPUs detected (normal if no gpus installed)\n",
      "\u001b[36malgo-1-jpgbf_1  |\u001b[0m 2020-03-29 10:46:31,242 sagemaker-containers INFO     Invoking user script\n",
      "\u001b[36malgo-1-jpgbf_1  |\u001b[0m \n",
      "\u001b[36malgo-1-jpgbf_1  |\u001b[0m Training Env:\n",
      "\u001b[36malgo-1-jpgbf_1  |\u001b[0m \n",
      "\u001b[36malgo-1-jpgbf_1  |\u001b[0m {\n",
      "\u001b[36malgo-1-jpgbf_1  |\u001b[0m     \"additional_framework_parameters\": {},\n",
      "\u001b[36malgo-1-jpgbf_1  |\u001b[0m     \"channel_input_dirs\": {\n",
      "\u001b[36malgo-1-jpgbf_1  |\u001b[0m         \"train\": \"/opt/ml/input/data/train\",\n",
      "\u001b[36malgo-1-jpgbf_1  |\u001b[0m         \"validation\": \"/opt/ml/input/data/validation\",\n",
      "\u001b[36malgo-1-jpgbf_1  |\u001b[0m         \"eval\": \"/opt/ml/input/data/eval\"\n",
      "\u001b[36malgo-1-jpgbf_1  |\u001b[0m     },\n",
      "\u001b[36malgo-1-jpgbf_1  |\u001b[0m     \"current_host\": \"algo-1-jpgbf\",\n",
      "\u001b[36malgo-1-jpgbf_1  |\u001b[0m     \"framework_module\": \"sagemaker_tensorflow_container.training:main\",\n",
      "\u001b[36malgo-1-jpgbf_1  |\u001b[0m     \"hosts\": [\n",
      "\u001b[36malgo-1-jpgbf_1  |\u001b[0m         \"algo-1-jpgbf\"\n",
      "\u001b[36malgo-1-jpgbf_1  |\u001b[0m     ],\n",
      "\u001b[36malgo-1-jpgbf_1  |\u001b[0m     \"hyperparameters\": {\n",
      "\u001b[36malgo-1-jpgbf_1  |\u001b[0m         \"epochs\": 2,\n",
      "\u001b[36malgo-1-jpgbf_1  |\u001b[0m         \"batch-size\": 64,\n",
      "\u001b[36malgo-1-jpgbf_1  |\u001b[0m         \"model_dir\": \"s3://sagemaker-eu-west-1-553592045750/sagemaker-tensorflow-scriptmode-2020-03-29-10-39-19-000/model\"\n",
      "\u001b[36malgo-1-jpgbf_1  |\u001b[0m     },\n",
      "\u001b[36malgo-1-jpgbf_1  |\u001b[0m     \"input_config_dir\": \"/opt/ml/input/config\",\n",
      "\u001b[36malgo-1-jpgbf_1  |\u001b[0m     \"input_data_config\": {\n",
      "\u001b[36malgo-1-jpgbf_1  |\u001b[0m         \"train\": {\n",
      "\u001b[36malgo-1-jpgbf_1  |\u001b[0m             \"TrainingInputMode\": \"File\"\n",
      "\u001b[36malgo-1-jpgbf_1  |\u001b[0m         },\n",
      "\u001b[36malgo-1-jpgbf_1  |\u001b[0m         \"validation\": {\n",
      "\u001b[36malgo-1-jpgbf_1  |\u001b[0m             \"TrainingInputMode\": \"File\"\n",
      "\u001b[36malgo-1-jpgbf_1  |\u001b[0m         },\n",
      "\u001b[36malgo-1-jpgbf_1  |\u001b[0m         \"eval\": {\n",
      "\u001b[36malgo-1-jpgbf_1  |\u001b[0m             \"TrainingInputMode\": \"File\"\n",
      "\u001b[36malgo-1-jpgbf_1  |\u001b[0m         }\n",
      "\u001b[36malgo-1-jpgbf_1  |\u001b[0m     },\n",
      "\u001b[36malgo-1-jpgbf_1  |\u001b[0m     \"input_dir\": \"/opt/ml/input\",\n",
      "\u001b[36malgo-1-jpgbf_1  |\u001b[0m     \"is_master\": true,\n",
      "\u001b[36malgo-1-jpgbf_1  |\u001b[0m     \"job_name\": \"sagemaker-tensorflow-scriptmode-2020-03-29-10-46-28-016\",\n",
      "\u001b[36malgo-1-jpgbf_1  |\u001b[0m     \"log_level\": 20,\n",
      "\u001b[36malgo-1-jpgbf_1  |\u001b[0m     \"master_hostname\": \"algo-1-jpgbf\",\n",
      "\u001b[36malgo-1-jpgbf_1  |\u001b[0m     \"model_dir\": \"/opt/ml/model\",\n",
      "\u001b[36malgo-1-jpgbf_1  |\u001b[0m     \"module_dir\": \"s3://sagemaker-eu-west-1-553592045750/sagemaker-tensorflow-scriptmode-2020-03-29-10-46-28-016/source/sourcedir.tar.gz\",\n",
      "\u001b[36malgo-1-jpgbf_1  |\u001b[0m     \"module_name\": \"cifar10_keras_main\",\n",
      "\u001b[36malgo-1-jpgbf_1  |\u001b[0m     \"network_interface_name\": \"eth0\",\n",
      "\u001b[36malgo-1-jpgbf_1  |\u001b[0m     \"num_cpus\": 2,\n",
      "\u001b[36malgo-1-jpgbf_1  |\u001b[0m     \"num_gpus\": 0,\n",
      "\u001b[36malgo-1-jpgbf_1  |\u001b[0m     \"output_data_dir\": \"/opt/ml/output/data\",\n",
      "\u001b[36malgo-1-jpgbf_1  |\u001b[0m     \"output_dir\": \"/opt/ml/output\",\n",
      "\u001b[36malgo-1-jpgbf_1  |\u001b[0m     \"output_intermediate_dir\": \"/opt/ml/output/intermediate\",\n",
      "\u001b[36malgo-1-jpgbf_1  |\u001b[0m     \"resource_config\": {\n",
      "\u001b[36malgo-1-jpgbf_1  |\u001b[0m         \"current_host\": \"algo-1-jpgbf\",\n",
      "\u001b[36malgo-1-jpgbf_1  |\u001b[0m         \"hosts\": [\n",
      "\u001b[36malgo-1-jpgbf_1  |\u001b[0m             \"algo-1-jpgbf\"\n",
      "\u001b[36malgo-1-jpgbf_1  |\u001b[0m         ]\n",
      "\u001b[36malgo-1-jpgbf_1  |\u001b[0m     },\n",
      "\u001b[36malgo-1-jpgbf_1  |\u001b[0m     \"user_entry_point\": \"cifar10_keras_main.py\"\n",
      "\u001b[36malgo-1-jpgbf_1  |\u001b[0m }\n",
      "\u001b[36malgo-1-jpgbf_1  |\u001b[0m \n",
      "\u001b[36malgo-1-jpgbf_1  |\u001b[0m Environment variables:\n",
      "\u001b[36malgo-1-jpgbf_1  |\u001b[0m \n",
      "\u001b[36malgo-1-jpgbf_1  |\u001b[0m SM_HOSTS=[\"algo-1-jpgbf\"]\n",
      "\u001b[36malgo-1-jpgbf_1  |\u001b[0m SM_NETWORK_INTERFACE_NAME=eth0\n",
      "\u001b[36malgo-1-jpgbf_1  |\u001b[0m SM_HPS={\"batch-size\":64,\"epochs\":2,\"model_dir\":\"s3://sagemaker-eu-west-1-553592045750/sagemaker-tensorflow-scriptmode-2020-03-29-10-39-19-000/model\"}\n",
      "\u001b[36malgo-1-jpgbf_1  |\u001b[0m SM_USER_ENTRY_POINT=cifar10_keras_main.py\n",
      "\u001b[36malgo-1-jpgbf_1  |\u001b[0m SM_FRAMEWORK_PARAMS={}\n",
      "\u001b[36malgo-1-jpgbf_1  |\u001b[0m SM_RESOURCE_CONFIG={\"current_host\":\"algo-1-jpgbf\",\"hosts\":[\"algo-1-jpgbf\"]}\n",
      "\u001b[36malgo-1-jpgbf_1  |\u001b[0m SM_INPUT_DATA_CONFIG={\"eval\":{\"TrainingInputMode\":\"File\"},\"train\":{\"TrainingInputMode\":\"File\"},\"validation\":{\"TrainingInputMode\":\"File\"}}\n",
      "\u001b[36malgo-1-jpgbf_1  |\u001b[0m SM_OUTPUT_DATA_DIR=/opt/ml/output/data\n",
      "\u001b[36malgo-1-jpgbf_1  |\u001b[0m SM_CHANNELS=[\"eval\",\"train\",\"validation\"]\n",
      "\u001b[36malgo-1-jpgbf_1  |\u001b[0m SM_CURRENT_HOST=algo-1-jpgbf\n",
      "\u001b[36malgo-1-jpgbf_1  |\u001b[0m SM_MODULE_NAME=cifar10_keras_main\n",
      "\u001b[36malgo-1-jpgbf_1  |\u001b[0m SM_LOG_LEVEL=20\n",
      "\u001b[36malgo-1-jpgbf_1  |\u001b[0m SM_FRAMEWORK_MODULE=sagemaker_tensorflow_container.training:main\n",
      "\u001b[36malgo-1-jpgbf_1  |\u001b[0m SM_INPUT_DIR=/opt/ml/input\n",
      "\u001b[36malgo-1-jpgbf_1  |\u001b[0m SM_INPUT_CONFIG_DIR=/opt/ml/input/config\n",
      "\u001b[36malgo-1-jpgbf_1  |\u001b[0m SM_OUTPUT_DIR=/opt/ml/output\n",
      "\u001b[36malgo-1-jpgbf_1  |\u001b[0m SM_NUM_CPUS=2\n",
      "\u001b[36malgo-1-jpgbf_1  |\u001b[0m SM_NUM_GPUS=0\n",
      "\u001b[36malgo-1-jpgbf_1  |\u001b[0m SM_MODEL_DIR=/opt/ml/model\n",
      "\u001b[36malgo-1-jpgbf_1  |\u001b[0m SM_MODULE_DIR=s3://sagemaker-eu-west-1-553592045750/sagemaker-tensorflow-scriptmode-2020-03-29-10-46-28-016/source/sourcedir.tar.gz\n",
      "\u001b[36malgo-1-jpgbf_1  |\u001b[0m SM_TRAINING_ENV={\"additional_framework_parameters\":{},\"channel_input_dirs\":{\"eval\":\"/opt/ml/input/data/eval\",\"train\":\"/opt/ml/input/data/train\",\"validation\":\"/opt/ml/input/data/validation\"},\"current_host\":\"algo-1-jpgbf\",\"framework_module\":\"sagemaker_tensorflow_container.training:main\",\"hosts\":[\"algo-1-jpgbf\"],\"hyperparameters\":{\"batch-size\":64,\"epochs\":2,\"model_dir\":\"s3://sagemaker-eu-west-1-553592045750/sagemaker-tensorflow-scriptmode-2020-03-29-10-39-19-000/model\"},\"input_config_dir\":\"/opt/ml/input/config\",\"input_data_config\":{\"eval\":{\"TrainingInputMode\":\"File\"},\"train\":{\"TrainingInputMode\":\"File\"},\"validation\":{\"TrainingInputMode\":\"File\"}},\"input_dir\":\"/opt/ml/input\",\"is_master\":true,\"job_name\":\"sagemaker-tensorflow-scriptmode-2020-03-29-10-46-28-016\",\"log_level\":20,\"master_hostname\":\"algo-1-jpgbf\",\"model_dir\":\"/opt/ml/model\",\"module_dir\":\"s3://sagemaker-eu-west-1-553592045750/sagemaker-tensorflow-scriptmode-2020-03-29-10-46-28-016/source/sourcedir.tar.gz\",\"module_name\":\"cifar10_keras_main\",\"network_interface_name\":\"eth0\",\"num_cpus\":2,\"num_gpus\":0,\"output_data_dir\":\"/opt/ml/output/data\",\"output_dir\":\"/opt/ml/output\",\"output_intermediate_dir\":\"/opt/ml/output/intermediate\",\"resource_config\":{\"current_host\":\"algo-1-jpgbf\",\"hosts\":[\"algo-1-jpgbf\"]},\"user_entry_point\":\"cifar10_keras_main.py\"}\n",
      "\u001b[36malgo-1-jpgbf_1  |\u001b[0m SM_USER_ARGS=[\"--batch-size\",\"64\",\"--epochs\",\"2\",\"--model_dir\",\"s3://sagemaker-eu-west-1-553592045750/sagemaker-tensorflow-scriptmode-2020-03-29-10-39-19-000/model\"]\n",
      "\u001b[36malgo-1-jpgbf_1  |\u001b[0m SM_OUTPUT_INTERMEDIATE_DIR=/opt/ml/output/intermediate\n",
      "\u001b[36malgo-1-jpgbf_1  |\u001b[0m SM_CHANNEL_TRAIN=/opt/ml/input/data/train\n",
      "\u001b[36malgo-1-jpgbf_1  |\u001b[0m SM_CHANNEL_VALIDATION=/opt/ml/input/data/validation\n",
      "\u001b[36malgo-1-jpgbf_1  |\u001b[0m SM_CHANNEL_EVAL=/opt/ml/input/data/eval\n",
      "\u001b[36malgo-1-jpgbf_1  |\u001b[0m SM_HP_EPOCHS=2\n",
      "\u001b[36malgo-1-jpgbf_1  |\u001b[0m SM_HP_BATCH-SIZE=64\n",
      "\u001b[36malgo-1-jpgbf_1  |\u001b[0m SM_HP_MODEL_DIR=s3://sagemaker-eu-west-1-553592045750/sagemaker-tensorflow-scriptmode-2020-03-29-10-39-19-000/model\n",
      "\u001b[36malgo-1-jpgbf_1  |\u001b[0m PYTHONPATH=/opt/ml/code:/usr/local/bin:/usr/lib/python36.zip:/usr/lib/python3.6:/usr/lib/python3.6/lib-dynload:/usr/local/lib/python3.6/dist-packages:/usr/lib/python3/dist-packages\n",
      "\u001b[36malgo-1-jpgbf_1  |\u001b[0m \n",
      "\u001b[36malgo-1-jpgbf_1  |\u001b[0m Invoking script with the following command:\n",
      "\u001b[36malgo-1-jpgbf_1  |\u001b[0m \n",
      "\u001b[36malgo-1-jpgbf_1  |\u001b[0m /usr/bin/python cifar10_keras_main.py --batch-size 64 --epochs 2 --model_dir s3://sagemaker-eu-west-1-553592045750/sagemaker-tensorflow-scriptmode-2020-03-29-10-39-19-000/model\n",
      "\u001b[36malgo-1-jpgbf_1  |\u001b[0m \n",
      "\u001b[36malgo-1-jpgbf_1  |\u001b[0m \n",
      "\u001b[36malgo-1-jpgbf_1  |\u001b[0m 2020-03-29 10:46:31,278 sagemaker_tensorflow_container.training WARNING  No model artifact is saved under path /opt/ml/model. Your training job will not save any model files to S3.\n",
      "\u001b[36malgo-1-jpgbf_1  |\u001b[0m For details of how to construct your training script see:\n",
      "\u001b[36malgo-1-jpgbf_1  |\u001b[0m https://github.com/aws/sagemaker-python-sdk/tree/master/src/sagemaker/tensorflow#adapting-your-local-tensorflow-script\n",
      "\u001b[36malgo-1-jpgbf_1  |\u001b[0m 2020-03-29 10:46:31,279 sagemaker-containers INFO     Reporting training SUCCESS\n"
     ]
    },
    {
     "name": "stdout",
     "output_type": "stream",
     "text": [
      "\u001b[36mtmprg0dav80_algo-1-jpgbf_1 exited with code 0\n",
      "\u001b[0mAborting on container exit...\n",
      "===== Job Complete =====\n"
     ]
    }
   ],
   "source": [
    "local_inputs = {\n",
    "    'train': 'file://' + os.getcwd() + '/data/train',\n",
    "    'validation': 'file://' + os.getcwd() + '/data/validation',\n",
    "    'eval': 'file://' + os.getcwd() + '/data/eval'\n",
    "}\n",
    "\n",
    "estimator.fit(local_inputs)"
   ]
  },
  {
   "cell_type": "markdown",
   "metadata": {},
   "source": [
    "# Run on SageMaker Cloud"
   ]
  },
  {
   "cell_type": "code",
   "execution_count": null,
   "metadata": {},
   "outputs": [],
   "source": [
    "dataset_location = sagemaker_session.upload_data(\n",
    "    path='data',\n",
    "    key_prefix='data/DEMO-cifar10-tf'\n",
    ")\n",
    "display(dataset_location)"
   ]
  },
  {
   "cell_type": "code",
   "execution_count": null,
   "metadata": {},
   "outputs": [],
   "source": [
    "#SageMaker can get training metrics directly from the logs and send them to CloudWatch metrics.\n",
    "keras_metric_definition = [\n",
    "    {'Name': 'train:loss', 'Regex': '.*loss: ([0-9\\\\.]+) - acc: [0-9\\\\.]+.*'},\n",
    "    {'Name': 'train:accuracy', 'Regex': '.*loss: [0-9\\\\.]+ - acc: ([0-9\\\\.]+).*'},\n",
    "    {'Name': 'validation:accuracy', 'Regex': '.*step - loss: [0-9\\\\.]+ - acc: [0-9\\\\.]+ - val_loss: [0-9\\\\.]+ - val_acc: ([0-9\\\\.]+).*'},\n",
    "    {'Name': 'validation:loss', 'Regex': '.*step - loss: [0-9\\\\.]+ - acc: [0-9\\\\.]+ - val_loss: ([0-9\\\\.]+) - val_acc: [0-9\\\\.]+.*'},\n",
    "    {'Name': 'sec/steps', 'Regex': '.* - \\d+s (\\d+)[mu]s/step - loss: [0-9\\\\.]+ - acc: [0-9\\\\.]+ - val_loss: [0-9\\\\.]+ - val_acc: [0-9\\\\.]+'}\n",
    "]"
   ]
  },
  {
   "cell_type": "code",
   "execution_count": null,
   "metadata": {},
   "outputs": [],
   "source": [
    "estimator = TensorFlow(\n",
    "    base_job_name='cifar10-tf',\n",
    "    entry_point='cifar10_keras_main.py',\n",
    "    source_dir=source_dir,\n",
    "    role=role,\n",
    "    framework_version='1.12.0',\n",
    "    py_version='py3',\n",
    "    hyperparameters=hyperparameters,\n",
    "    train_instance_count=1, \n",
    "    train_instance_type='ml.p3.2xlarge',\n",
    "    tags = [{'Key' : 'Project', 'Value' : 'cifar10'},{'Key' : 'TensorBoard', 'Value' : 'file'}],\n",
    "    metric_definitions=keras_metric_definition\n",
    ")\n",
    "\n",
    "remote_inputs = {\n",
    "    'train' : dataset_location+'/train', \n",
    "    'validation' : dataset_location+'/validation', \n",
    "    'eval' : dataset_location+'/eval'}"
   ]
  },
  {
   "cell_type": "code",
   "execution_count": 46,
   "metadata": {},
   "outputs": [
    {
     "data": {
      "text/markdown": [
       "CloudWatch metrics: [link](https://console.aws.amazon.com/cloudwatch/home?region=eu-west-1#metricsV2:query=%7B/aws/sagemaker/TrainingJobs,TrainingJobName%7D%20sagemaker-tensorflow-scriptmode-2020-03-29-10-46-28-016)"
      ],
      "text/plain": [
       "<IPython.core.display.Markdown object>"
      ]
     },
     "metadata": {},
     "output_type": "display_data"
    },
    {
     "data": {
      "text/markdown": [
       "After you choose a metric, change the period to 1 Minute (Graphed Metrics -> Period)"
      ],
      "text/plain": [
       "<IPython.core.display.Markdown object>"
      ]
     },
     "metadata": {},
     "output_type": "display_data"
    }
   ],
   "source": [
    "# view metrics\n",
    "from IPython.core.display import Markdown\n",
    "\n",
    "link = 'https://console.aws.amazon.com/cloudwatch/home?region=' \\\n",
    "    + sagemaker_session.boto_region_name \\\n",
    "    + '#metricsV2:query=%7B/aws/sagemaker/TrainingJobs,TrainingJobName%7D%20' \\\n",
    "    + estimator.latest_training_job.job_name\n",
    "display(Markdown('CloudWatch metrics: [link]('+link+')'))\n",
    "display(Markdown('After you choose a metric, change the period to 1 Minute (Graphed Metrics -> Period)'))"
   ]
  },
  {
   "cell_type": "markdown",
   "metadata": {},
   "source": [
    "## Pipe mode"
   ]
  },
  {
   "cell_type": "code",
   "execution_count": null,
   "metadata": {},
   "outputs": [],
   "source": [
    "\n",
    "estimator_pipe = TensorFlow(\n",
    "    base_job_name='pipe-cifar10-tf',\n",
    "   entry_point='cifar10_keras_main.py',\n",
    "   source_dir=source_dir,\n",
    "   role=role,\n",
    "   framework_version='1.12.0',\n",
    "   py_version='py3',\n",
    "   hyperparameters=hyperparameters,\n",
    "   train_instance_count=1, train_instance_type='ml.p3.2xlarge',\n",
    "   tags = [{'Key' : 'Project', 'Value' : 'cifar10'},{'Key' : 'TensorBoard', 'Value' : 'pipe'}],\n",
    "   metric_definitions=keras_metric_definition,\n",
    "   input_mode='Pipe')"
   ]
  },
  {
   "cell_type": "markdown",
   "metadata": {},
   "source": [
    "## Distributed training with horovod"
   ]
  },
  {
   "cell_type": "code",
   "execution_count": null,
   "metadata": {},
   "outputs": [],
   "source": [
    "distributions = {'mpi': {\n",
    "                    'enabled': True,\n",
    "                    'processes_per_host': 1\n",
    "                        }\n",
    "                }\n",
    "\n",
    "estimator_dist = TensorFlow(base_job_name='dist-cifar10-tf',\n",
    "                       entry_point='cifar10_keras_main.py',\n",
    "                       source_dir=source_dir,\n",
    "                       role=role,\n",
    "                       framework_version='1.12.0',\n",
    "                       py_version='py3',\n",
    "                       hyperparameters=hyperparameters,\n",
    "                       train_instance_count=2, train_instance_type='ml.p3.2xlarge',\n",
    "                       tags = [{'Key' : 'Project', 'Value' : 'cifar10'},{'Key' : 'TensorBoard', 'Value' : 'dist'}],\n",
    "                       metric_definitions=keras_metric_definition,\n",
    "                       distributions=distributions)"
   ]
  },
  {
   "cell_type": "code",
   "execution_count": null,
   "metadata": {},
   "outputs": [],
   "source": []
  },
  {
   "cell_type": "code",
   "execution_count": null,
   "metadata": {},
   "outputs": [],
   "source": []
  },
  {
   "cell_type": "code",
   "execution_count": null,
   "metadata": {},
   "outputs": [],
   "source": []
  },
  {
   "cell_type": "markdown",
   "metadata": {},
   "source": [
    "--------------------------------------------------------------------------------------------------"
   ]
  },
  {
   "cell_type": "code",
   "execution_count": null,
   "metadata": {},
   "outputs": [],
   "source": [
    "\n",
    "\n",
    "\n"
   ]
  },
  {
   "cell_type": "code",
   "execution_count": 20,
   "metadata": {},
   "outputs": [],
   "source": []
  },
  {
   "cell_type": "code",
   "execution_count": null,
   "metadata": {},
   "outputs": [],
   "source": []
  },
  {
   "cell_type": "code",
   "execution_count": null,
   "metadata": {},
   "outputs": [],
   "source": []
  }
 ],
 "metadata": {
  "kernelspec": {
   "display_name": "conda_tensorflow_p36",
   "language": "python",
   "name": "conda_tensorflow_p36"
  },
  "language_info": {
   "codemirror_mode": {
    "name": "ipython",
    "version": 3
   },
   "file_extension": ".py",
   "mimetype": "text/x-python",
   "name": "python",
   "nbconvert_exporter": "python",
   "pygments_lexer": "ipython3",
   "version": "3.6.5"
  }
 },
 "nbformat": 4,
 "nbformat_minor": 4
}
